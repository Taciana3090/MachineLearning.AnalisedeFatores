{
  "nbformat": 4,
  "nbformat_minor": 0,
  "metadata": {
    "colab": {
      "provenance": [],
      "collapsed_sections": []
    },
    "kernelspec": {
      "name": "python3",
      "display_name": "Python 3"
    },
    "language_info": {
      "name": "python"
    }
  },
  "cells": [
    {
      "cell_type": "code",
      "execution_count": null,
      "metadata": {
        "id": "z-ffGw-2nea4"
      },
      "outputs": [],
      "source": [
        "# TERMOS DE MACHINE LEARNING\n",
        "# - Feature: sinônimo de variável, colunas, atributos e campo;\n",
        "# - Instância: sinônimo de linha, observação, dado, valor e caso;\n",
        "# - Target: sinônimo de predito e variável dependente;\n",
        "# - Dado: sinônimo de preditor e conjunto de variáveis preditivas.\n",
        "\n",
        "# CONJUNTO DE TESTE E TREINAMENTO\n",
        "# - Quando estamos construindo nosso modelo de machine learning, é necessário dividir...\n",
        "#... os nossos dados em dois conjuntos;\n",
        "# Um deles geralmente corresponde a dois terços dos nossos dados e é conhecido como conjunto de treino;\n",
        "# 2/3 dos seus dados -> conjunto de treino (use para treinar o modelo);\n",
        "# O outro é a parcela que sobra dos dados e serve para testar o nosso modelo e é conhecido como conjunto de teste;\n",
        "# 1/3 dos seus dados -> conjunto de teste (use para testar o modelo e ver como ele perfoma);\n",
        "\n",
        "# Ainda se faz necessário saber que os modelos de machine learning se dividem em dois grandes grupos:\n",
        "# - Aqueles que são supervisionados. (ou seja, são treinados em cima de dados já categorizados); \n",
        "# ex: fazendo predições de dados marcados. SPAM\n",
        "# - E os que não são supervisionados. (ou seja, aqueles que são treinados com dados que não possuem categorias)\n",
        "# ex: fazendo previsões de dados não marcados. Preços de casas"
      ]
    },
    {
      "cell_type": "code",
      "source": [
        "# ANÁLISE DE FATORES\n",
        "# É o método usado para encontrar variáveis latentes, essas variáveis afetam o nosso dado...\n",
        "#... mas não necessariamente estão visíveis. As vezes elas são inferidas a partir das variáveis presentes.\n",
        "# Esta técnica reduz a dimensionalidade do conjunto de dados. OU seja, o resultado é um conjunto...\n",
        "#... de fatores que representam os seus dados, mas sem a presença de redundâncias ou dimensões extras.\n",
        "\n",
        "# ANÁLISE DE FATORES PRESSUPOSTOS\n",
        "# - Quando aplicamos análise de fatores assumirmos que as variáveis são métricas...\n",
        "#... contínuas ou ordinais que apresentam coeficiente de correlação maior que 0.3 ...\n",
        "#... e que temos mais de 100 observações e mais de 5 observações por variável.\n",
        "# Também é importante lembrar que a mostra precisa ser homogênea.\n",
        "\n",
        "\n",
        "# Iremos usar o dataset de flores iris(grupos) onde encontramos observações de três tipos diferentes...\n",
        "#... de flores da espécie Iris:\n",
        "# - Setosa;\n",
        "# - Versicolor;\n",
        "# - Virginica\n",
        "# E teremos quatro variáveis/atributos(variáveis de predição) numéricas que são:\n",
        "# - Comprimento da cepa(sepal length);\n",
        "# - Largura da cepa(sepal width);\n",
        "# - Comprimento da pétala(petal length);\n",
        "# - Largura da pétala(petal width);\n"
      ],
      "metadata": {
        "id": "V_YheylgrMYv"
      },
      "execution_count": null,
      "outputs": []
    },
    {
      "cell_type": "code",
      "source": [
        "# demonstração de como realizar a análise de fatores usando o Sckit-learn.\n",
        "\n",
        "import pandas as pd\n",
        "\n",
        "# usaremos a classe Factory analises do módulo decomposition do Sckit-learn\n",
        "from sklearn.decomposition import FactorAnalysis\n",
        "\n",
        "# e por fim, nós iremos usar o módulo datasets do Sckit-learn para ler os nossos dados do dataset iris.\n",
        "from sklearn import datasets\n"
      ],
      "metadata": {
        "id": "PJOZZQUuuxAg"
      },
      "execution_count": null,
      "outputs": []
    },
    {
      "cell_type": "code",
      "source": [
        "# Começaremos carregando os dados com o método load underline iris.\n",
        "# e chamaremos esse objeto que vai conter os nossos dados de íris.\n",
        "iris = datasets.load_iris()\n",
        "\n",
        "# este conjunto de dados traz principalmente duas informações:\n",
        "# - os dados sobre as pétalas e sobre as cepas e as feature names que são os nomes...\n",
        "#... das nossas variáveis ou os nomes das nossas colunas.\n",
        "\n",
        "# Agora criaremos mais dois objetos, um com os dados e o outro com os nomes das colunas.\n",
        "X = iris.data\n",
        "nomes_das_variaveis = iris.feature_names\n",
        "\n",
        "# Só para vermos mais ou menos como é esse dataset. Mostraremos as cinco primeiras linhas.\n",
        "X[0:5, ]\n",
        "\n",
        "# por fim, executaremos a factory analise usando o método fit da classe factory analise...\n",
        "#... e iremos salvar esse resultado nesse objeto chamado fatores.\n"
      ],
      "metadata": {
        "colab": {
          "base_uri": "https://localhost:8080/"
        },
        "id": "75R2NvNHwMUq",
        "outputId": "e9d025f8-7c2e-471b-9f27-41d14de35ac2"
      },
      "execution_count": null,
      "outputs": [
        {
          "output_type": "execute_result",
          "data": {
            "text/plain": [
              "array([[5.1, 3.5, 1.4, 0.2],\n",
              "       [4.9, 3. , 1.4, 0.2],\n",
              "       [4.7, 3.2, 1.3, 0.2],\n",
              "       [4.6, 3.1, 1.5, 0.2],\n",
              "       [5. , 3.6, 1.4, 0.2]])"
            ]
          },
          "metadata": {},
          "execution_count": 5
        }
      ]
    },
    {
      "cell_type": "code",
      "source": [
        "# por fim, executaremos a factory analise usando o método fit da classe factory analise...\n",
        "#... e iremos salvar esse resultado nesse objeto chamado fatores.\n",
        "\n",
        "fatores = FactorAnalysis().fit(X) # feito o fit dos dados\n",
        "\n",
        "# Colocaremos os fatores resultantes com os nomes das variáveis em um data frame. \n",
        "pd.DataFrame(fatores.components_, columns=nomes_das_variaveis)"
      ],
      "metadata": {
        "colab": {
          "base_uri": "https://localhost:8080/",
          "height": 175
        },
        "id": "oYXEOEn_yXLw",
        "outputId": "cd4f0821-6309-4ca3-899b-19cbbf105294"
      },
      "execution_count": null,
      "outputs": [
        {
          "output_type": "execute_result",
          "data": {
            "text/plain": [
              "   sepal length (cm)  sepal width (cm)  petal length (cm)  petal width (cm)\n",
              "0           0.706989         -0.158005           1.654236           0.70085\n",
              "1           0.115161          0.159635          -0.044321          -0.01403\n",
              "2          -0.000000          0.000000           0.000000           0.00000\n",
              "3          -0.000000          0.000000           0.000000          -0.00000"
            ],
            "text/html": [
              "\n",
              "  <div id=\"df-0e59ad39-dd39-4b37-b852-6225cc75c862\">\n",
              "    <div class=\"colab-df-container\">\n",
              "      <div>\n",
              "<style scoped>\n",
              "    .dataframe tbody tr th:only-of-type {\n",
              "        vertical-align: middle;\n",
              "    }\n",
              "\n",
              "    .dataframe tbody tr th {\n",
              "        vertical-align: top;\n",
              "    }\n",
              "\n",
              "    .dataframe thead th {\n",
              "        text-align: right;\n",
              "    }\n",
              "</style>\n",
              "<table border=\"1\" class=\"dataframe\">\n",
              "  <thead>\n",
              "    <tr style=\"text-align: right;\">\n",
              "      <th></th>\n",
              "      <th>sepal length (cm)</th>\n",
              "      <th>sepal width (cm)</th>\n",
              "      <th>petal length (cm)</th>\n",
              "      <th>petal width (cm)</th>\n",
              "    </tr>\n",
              "  </thead>\n",
              "  <tbody>\n",
              "    <tr>\n",
              "      <th>0</th>\n",
              "      <td>0.706989</td>\n",
              "      <td>-0.158005</td>\n",
              "      <td>1.654236</td>\n",
              "      <td>0.70085</td>\n",
              "    </tr>\n",
              "    <tr>\n",
              "      <th>1</th>\n",
              "      <td>0.115161</td>\n",
              "      <td>0.159635</td>\n",
              "      <td>-0.044321</td>\n",
              "      <td>-0.01403</td>\n",
              "    </tr>\n",
              "    <tr>\n",
              "      <th>2</th>\n",
              "      <td>-0.000000</td>\n",
              "      <td>0.000000</td>\n",
              "      <td>0.000000</td>\n",
              "      <td>0.00000</td>\n",
              "    </tr>\n",
              "    <tr>\n",
              "      <th>3</th>\n",
              "      <td>-0.000000</td>\n",
              "      <td>0.000000</td>\n",
              "      <td>0.000000</td>\n",
              "      <td>-0.00000</td>\n",
              "    </tr>\n",
              "  </tbody>\n",
              "</table>\n",
              "</div>\n",
              "      <button class=\"colab-df-convert\" onclick=\"convertToInteractive('df-0e59ad39-dd39-4b37-b852-6225cc75c862')\"\n",
              "              title=\"Convert this dataframe to an interactive table.\"\n",
              "              style=\"display:none;\">\n",
              "        \n",
              "  <svg xmlns=\"http://www.w3.org/2000/svg\" height=\"24px\"viewBox=\"0 0 24 24\"\n",
              "       width=\"24px\">\n",
              "    <path d=\"M0 0h24v24H0V0z\" fill=\"none\"/>\n",
              "    <path d=\"M18.56 5.44l.94 2.06.94-2.06 2.06-.94-2.06-.94-.94-2.06-.94 2.06-2.06.94zm-11 1L8.5 8.5l.94-2.06 2.06-.94-2.06-.94L8.5 2.5l-.94 2.06-2.06.94zm10 10l.94 2.06.94-2.06 2.06-.94-2.06-.94-.94-2.06-.94 2.06-2.06.94z\"/><path d=\"M17.41 7.96l-1.37-1.37c-.4-.4-.92-.59-1.43-.59-.52 0-1.04.2-1.43.59L10.3 9.45l-7.72 7.72c-.78.78-.78 2.05 0 2.83L4 21.41c.39.39.9.59 1.41.59.51 0 1.02-.2 1.41-.59l7.78-7.78 2.81-2.81c.8-.78.8-2.07 0-2.86zM5.41 20L4 18.59l7.72-7.72 1.47 1.35L5.41 20z\"/>\n",
              "  </svg>\n",
              "      </button>\n",
              "      \n",
              "  <style>\n",
              "    .colab-df-container {\n",
              "      display:flex;\n",
              "      flex-wrap:wrap;\n",
              "      gap: 12px;\n",
              "    }\n",
              "\n",
              "    .colab-df-convert {\n",
              "      background-color: #E8F0FE;\n",
              "      border: none;\n",
              "      border-radius: 50%;\n",
              "      cursor: pointer;\n",
              "      display: none;\n",
              "      fill: #1967D2;\n",
              "      height: 32px;\n",
              "      padding: 0 0 0 0;\n",
              "      width: 32px;\n",
              "    }\n",
              "\n",
              "    .colab-df-convert:hover {\n",
              "      background-color: #E2EBFA;\n",
              "      box-shadow: 0px 1px 2px rgba(60, 64, 67, 0.3), 0px 1px 3px 1px rgba(60, 64, 67, 0.15);\n",
              "      fill: #174EA6;\n",
              "    }\n",
              "\n",
              "    [theme=dark] .colab-df-convert {\n",
              "      background-color: #3B4455;\n",
              "      fill: #D2E3FC;\n",
              "    }\n",
              "\n",
              "    [theme=dark] .colab-df-convert:hover {\n",
              "      background-color: #434B5C;\n",
              "      box-shadow: 0px 1px 3px 1px rgba(0, 0, 0, 0.15);\n",
              "      filter: drop-shadow(0px 1px 2px rgba(0, 0, 0, 0.3));\n",
              "      fill: #FFFFFF;\n",
              "    }\n",
              "  </style>\n",
              "\n",
              "      <script>\n",
              "        const buttonEl =\n",
              "          document.querySelector('#df-0e59ad39-dd39-4b37-b852-6225cc75c862 button.colab-df-convert');\n",
              "        buttonEl.style.display =\n",
              "          google.colab.kernel.accessAllowed ? 'block' : 'none';\n",
              "\n",
              "        async function convertToInteractive(key) {\n",
              "          const element = document.querySelector('#df-0e59ad39-dd39-4b37-b852-6225cc75c862');\n",
              "          const dataTable =\n",
              "            await google.colab.kernel.invokeFunction('convertToInteractive',\n",
              "                                                     [key], {});\n",
              "          if (!dataTable) return;\n",
              "\n",
              "          const docLinkHtml = 'Like what you see? Visit the ' +\n",
              "            '<a target=\"_blank\" href=https://colab.research.google.com/notebooks/data_table.ipynb>data table notebook</a>'\n",
              "            + ' to learn more about interactive tables.';\n",
              "          element.innerHTML = '';\n",
              "          dataTable['output_type'] = 'display_data';\n",
              "          await google.colab.output.renderOutput(dataTable, element);\n",
              "          const docLink = document.createElement('div');\n",
              "          docLink.innerHTML = docLinkHtml;\n",
              "          element.appendChild(docLink);\n",
              "        }\n",
              "      </script>\n",
              "    </div>\n",
              "  </div>\n",
              "  "
            ]
          },
          "metadata": {},
          "execution_count": 7
        }
      ]
    },
    {
      "cell_type": "code",
      "source": [
        "# ANÁLISE DE COMPONENTES PRINCIPAIS OU PCA\n",
        "# é um método de machine learning não supervisionado que descobre conjuntos de variáveis... \n",
        "#... correlacionadas e as reduz para um conjunto de variáveis não correlacionadas que...\n",
        "#... representam as variáveis originais e são chamadas de componentes principais, em outras...\n",
        "#... palavras se nós removermos as redundâncias, os ruídos, os outliers e reduzirmos as dimensões...\n",
        "#... das nossas variáveis, o que sobra são as partes mais importantes do nosso conjunto de dados original.\n",
        "# Essas partes que chamamos de componentes principais.\n",
        "\n",
        "# CASOS DE USO DO PCA\n",
        "# - Detectação de fraudes;\n",
        "# - Detectação de SPAM;\n",
        "# - Reconhecimento de imagem;\n",
        "# - Reconhecimento de fala;\n",
        "# - Remoção de outlier se usarmos o PCA para pré-processar os dados.\n",
        "\n",
        "# Como tantos os fatores, quanto os componentes removem ruído e redundância dos nossos dados...\n",
        "#... nós podemos usar essas formas comprimidas de representação de dados como variáveis de entradas...\n",
        "#... em modelo de machine learning e executar predições usando ambas.\n",
        "\n",
        "# DECIDINDO QUAIS COMPONENTES MANTER\n",
        "# - A razão de variância mostra quanto a informação está compactada nos primeiros componentes e a...\n",
        "#... variância cumulativa, que é o somatório da razão da variância.\n",
        "# Com a variância cumulativa você descobre quantos componentes precisa para manter nos seus modelos.\n",
        "# A regra geral nesse caso é tentar manter uma variância cumulativa de pelo menos .7, ou seja, 70% dos...\n",
        "#... seus dados originais"
      ],
      "metadata": {
        "id": "qDRLORy118Xc"
      },
      "execution_count": null,
      "outputs": []
    },
    {
      "cell_type": "code",
      "source": [
        "# Aplicando PCA no conjunto de dados iris\n",
        "import pandas as pd \n",
        "import seaborn as sns\n",
        "\n",
        "from matplotlib import rcParams\n",
        "\n",
        "from sklearn import datasets\n",
        "from sklearn.decomposition import PCA\n",
        "\n",
        "%matplotlib inline\n",
        "rcParams['figure.figsize'] = 5, 4\n",
        "sns.set_style('whitegrid')\n",
        "\n",
        "iris = datasets.load_iris()\n",
        "X = iris.data\n",
        "nomes_das_variaveis = iris.feature_names\n",
        "X[0,5: ]"
      ],
      "metadata": {
        "colab": {
          "base_uri": "https://localhost:8080/"
        },
        "id": "fOgqq1Vm5jVD",
        "outputId": "5d9d3589-d774-4120-dbf4-dd5e64a50cb0"
      },
      "execution_count": null,
      "outputs": [
        {
          "output_type": "execute_result",
          "data": {
            "text/plain": [
              "array([], dtype=float64)"
            ]
          },
          "metadata": {},
          "execution_count": 8
        }
      ]
    },
    {
      "cell_type": "code",
      "source": [
        "# Criaremos uma instância do nosso objeto PCA e aplicaremos o método fit transform...\n",
        "#... nos dados de iris. \n",
        "pca = PCA()\n",
        "\n",
        "# E salvaremos o resultado num objeto chamado iris PCA\n",
        "iris_pca = pca.fit_transform(X)\n"
      ],
      "metadata": {
        "id": "IoqKfXql6yj3"
      },
      "execution_count": null,
      "outputs": []
    },
    {
      "cell_type": "code",
      "source": [
        "# A primeira coisa que mostraremos é o array que contém os dados da razão da variância.\n",
        "pca.explained_variance_ratio_\n",
        "\n",
        "# Com isso, conseguimos ver que os dois primeiros componentes já somam mais de 97,7% dos nossos dados.\n"
      ],
      "metadata": {
        "colab": {
          "base_uri": "https://localhost:8080/"
        },
        "id": "zApALkje7bwT",
        "outputId": "e2eb40e5-89a2-42bb-d512-60a7412f850b"
      },
      "execution_count": null,
      "outputs": [
        {
          "output_type": "execute_result",
          "data": {
            "text/plain": [
              "array([0.92461872, 0.05306648, 0.01710261, 0.00521218])"
            ]
          },
          "metadata": {},
          "execution_count": 10
        }
      ]
    },
    {
      "cell_type": "code",
      "source": [
        "# Agora iremos realizar a variância acumulativa\n",
        "# para isso, iremos usar o método de soma e o mesmo método que nós dá a razão das variâncias para todos os componentes. \n",
        "pca.explained_variance_ratio_.sum()\n",
        "\n",
        "# Como somamos todas as porcentagens com método sum, o resultado esperado é 1 que indica 100%."
      ],
      "metadata": {
        "colab": {
          "base_uri": "https://localhost:8080/"
        },
        "id": "mOGIMwzv8EdH",
        "outputId": "c45e4eee-82b5-49d2-94ae-b00ea0f38e8e"
      },
      "execution_count": null,
      "outputs": [
        {
          "output_type": "execute_result",
          "data": {
            "text/plain": [
              "1.0"
            ]
          },
          "metadata": {},
          "execution_count": 14
        }
      ]
    },
    {
      "cell_type": "code",
      "source": [
        "# Iremos montar uma dataframe que contém todos os componentes e os nomes das colunas vai ser...\n",
        "#... nome das variáveis do nosso dataset tradicional de iris. Iremos chamar esse novo objeto de comps.\n",
        "comps = pd.DataFrame(pca.components_, columns=nomes_das_variaveis) # passaremos os componentes PCA, e o argumento columns...\n",
        "#... vai receber os nomes das variáveis\n",
        "comps.head(5)\n"
      ],
      "metadata": {
        "colab": {
          "base_uri": "https://localhost:8080/",
          "height": 175
        },
        "id": "ckk24flh88fF",
        "outputId": "7c840ba0-c48b-47dc-e368-43ced9829f74"
      },
      "execution_count": null,
      "outputs": [
        {
          "output_type": "execute_result",
          "data": {
            "text/plain": [
              "   sepal length (cm)  sepal width (cm)  petal length (cm)  petal width (cm)\n",
              "0           0.361387         -0.084523           0.856671          0.358289\n",
              "1           0.656589          0.730161          -0.173373         -0.075481\n",
              "2          -0.582030          0.597911           0.076236          0.545831\n",
              "3          -0.315487          0.319723           0.479839         -0.753657"
            ],
            "text/html": [
              "\n",
              "  <div id=\"df-e1e8de6f-3d2a-4c39-80f8-8d442da274c3\">\n",
              "    <div class=\"colab-df-container\">\n",
              "      <div>\n",
              "<style scoped>\n",
              "    .dataframe tbody tr th:only-of-type {\n",
              "        vertical-align: middle;\n",
              "    }\n",
              "\n",
              "    .dataframe tbody tr th {\n",
              "        vertical-align: top;\n",
              "    }\n",
              "\n",
              "    .dataframe thead th {\n",
              "        text-align: right;\n",
              "    }\n",
              "</style>\n",
              "<table border=\"1\" class=\"dataframe\">\n",
              "  <thead>\n",
              "    <tr style=\"text-align: right;\">\n",
              "      <th></th>\n",
              "      <th>sepal length (cm)</th>\n",
              "      <th>sepal width (cm)</th>\n",
              "      <th>petal length (cm)</th>\n",
              "      <th>petal width (cm)</th>\n",
              "    </tr>\n",
              "  </thead>\n",
              "  <tbody>\n",
              "    <tr>\n",
              "      <th>0</th>\n",
              "      <td>0.361387</td>\n",
              "      <td>-0.084523</td>\n",
              "      <td>0.856671</td>\n",
              "      <td>0.358289</td>\n",
              "    </tr>\n",
              "    <tr>\n",
              "      <th>1</th>\n",
              "      <td>0.656589</td>\n",
              "      <td>0.730161</td>\n",
              "      <td>-0.173373</td>\n",
              "      <td>-0.075481</td>\n",
              "    </tr>\n",
              "    <tr>\n",
              "      <th>2</th>\n",
              "      <td>-0.582030</td>\n",
              "      <td>0.597911</td>\n",
              "      <td>0.076236</td>\n",
              "      <td>0.545831</td>\n",
              "    </tr>\n",
              "    <tr>\n",
              "      <th>3</th>\n",
              "      <td>-0.315487</td>\n",
              "      <td>0.319723</td>\n",
              "      <td>0.479839</td>\n",
              "      <td>-0.753657</td>\n",
              "    </tr>\n",
              "  </tbody>\n",
              "</table>\n",
              "</div>\n",
              "      <button class=\"colab-df-convert\" onclick=\"convertToInteractive('df-e1e8de6f-3d2a-4c39-80f8-8d442da274c3')\"\n",
              "              title=\"Convert this dataframe to an interactive table.\"\n",
              "              style=\"display:none;\">\n",
              "        \n",
              "  <svg xmlns=\"http://www.w3.org/2000/svg\" height=\"24px\"viewBox=\"0 0 24 24\"\n",
              "       width=\"24px\">\n",
              "    <path d=\"M0 0h24v24H0V0z\" fill=\"none\"/>\n",
              "    <path d=\"M18.56 5.44l.94 2.06.94-2.06 2.06-.94-2.06-.94-.94-2.06-.94 2.06-2.06.94zm-11 1L8.5 8.5l.94-2.06 2.06-.94-2.06-.94L8.5 2.5l-.94 2.06-2.06.94zm10 10l.94 2.06.94-2.06 2.06-.94-2.06-.94-.94-2.06-.94 2.06-2.06.94z\"/><path d=\"M17.41 7.96l-1.37-1.37c-.4-.4-.92-.59-1.43-.59-.52 0-1.04.2-1.43.59L10.3 9.45l-7.72 7.72c-.78.78-.78 2.05 0 2.83L4 21.41c.39.39.9.59 1.41.59.51 0 1.02-.2 1.41-.59l7.78-7.78 2.81-2.81c.8-.78.8-2.07 0-2.86zM5.41 20L4 18.59l7.72-7.72 1.47 1.35L5.41 20z\"/>\n",
              "  </svg>\n",
              "      </button>\n",
              "      \n",
              "  <style>\n",
              "    .colab-df-container {\n",
              "      display:flex;\n",
              "      flex-wrap:wrap;\n",
              "      gap: 12px;\n",
              "    }\n",
              "\n",
              "    .colab-df-convert {\n",
              "      background-color: #E8F0FE;\n",
              "      border: none;\n",
              "      border-radius: 50%;\n",
              "      cursor: pointer;\n",
              "      display: none;\n",
              "      fill: #1967D2;\n",
              "      height: 32px;\n",
              "      padding: 0 0 0 0;\n",
              "      width: 32px;\n",
              "    }\n",
              "\n",
              "    .colab-df-convert:hover {\n",
              "      background-color: #E2EBFA;\n",
              "      box-shadow: 0px 1px 2px rgba(60, 64, 67, 0.3), 0px 1px 3px 1px rgba(60, 64, 67, 0.15);\n",
              "      fill: #174EA6;\n",
              "    }\n",
              "\n",
              "    [theme=dark] .colab-df-convert {\n",
              "      background-color: #3B4455;\n",
              "      fill: #D2E3FC;\n",
              "    }\n",
              "\n",
              "    [theme=dark] .colab-df-convert:hover {\n",
              "      background-color: #434B5C;\n",
              "      box-shadow: 0px 1px 3px 1px rgba(0, 0, 0, 0.15);\n",
              "      filter: drop-shadow(0px 1px 2px rgba(0, 0, 0, 0.3));\n",
              "      fill: #FFFFFF;\n",
              "    }\n",
              "  </style>\n",
              "\n",
              "      <script>\n",
              "        const buttonEl =\n",
              "          document.querySelector('#df-e1e8de6f-3d2a-4c39-80f8-8d442da274c3 button.colab-df-convert');\n",
              "        buttonEl.style.display =\n",
              "          google.colab.kernel.accessAllowed ? 'block' : 'none';\n",
              "\n",
              "        async function convertToInteractive(key) {\n",
              "          const element = document.querySelector('#df-e1e8de6f-3d2a-4c39-80f8-8d442da274c3');\n",
              "          const dataTable =\n",
              "            await google.colab.kernel.invokeFunction('convertToInteractive',\n",
              "                                                     [key], {});\n",
              "          if (!dataTable) return;\n",
              "\n",
              "          const docLinkHtml = 'Like what you see? Visit the ' +\n",
              "            '<a target=\"_blank\" href=https://colab.research.google.com/notebooks/data_table.ipynb>data table notebook</a>'\n",
              "            + ' to learn more about interactive tables.';\n",
              "          element.innerHTML = '';\n",
              "          dataTable['output_type'] = 'display_data';\n",
              "          await google.colab.output.renderOutput(dataTable, element);\n",
              "          const docLink = document.createElement('div');\n",
              "          docLink.innerHTML = docLinkHtml;\n",
              "          element.appendChild(docLink);\n",
              "        }\n",
              "      </script>\n",
              "    </div>\n",
              "  </div>\n",
              "  "
            ]
          },
          "metadata": {},
          "execution_count": 15
        }
      ]
    },
    {
      "cell_type": "code",
      "source": [
        "# por fim, vamos fazer um heatmap. - identifica correlações -\n",
        "_= sns.heatmap(comps)\n",
        "\n",
        "# Como sabemos que o componente 1 e o componente 2 são os componentes que trazem...\n",
        "#... a maior proporção dos dados originais, iremos analisar esses dois. \n",
        "# Então olhando o nosso heatmap, conseguimos ver que o PC1, o principal componente...\n",
        "#... possui uma correlação fortemente positiva com o comprimento da pétala, uma correlação...\n",
        "#... moderamente positiva com o comprimento da cepa e a largura da pétala, e uma correlação...\n",
        "#... fracamente negativa com a largura da cepa. \n",
        "\n",
        "# Enquanto isso, o principal componente 2 tem uma correlação fortemente negativa com o comprimento...\n",
        "#... da pétala, uma correlação moderadamente positiva com o comprimento da cepa e a largura da cepa, e...\n",
        "#... para finalizar, uma correlação fracamente negativa com a largura da pétala. \n"
      ],
      "metadata": {
        "colab": {
          "base_uri": "https://localhost:8080/",
          "height": 343
        },
        "id": "q6DCfDU_9_Kk",
        "outputId": "c5bd356c-9317-4126-aa2d-68da345ded5f"
      },
      "execution_count": null,
      "outputs": [
        {
          "output_type": "display_data",
          "data": {
            "text/plain": [
              "<Figure size 360x288 with 2 Axes>"
            ],
            "image/png": "[encoded data removed]"
          },
          "metadata": {}
        }
      ]
    }
  ]
}